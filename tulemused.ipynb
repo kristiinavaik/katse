{
 "cells": [
  {
   "cell_type": "code",
   "execution_count": 1,
   "metadata": {},
   "outputs": [],
   "source": [
    "import csv\n",
    "import pandas as pd"
   ]
  },
  {
   "cell_type": "code",
   "execution_count": 2,
   "metadata": {},
   "outputs": [],
   "source": [
    "vastused = list(csv.reader(open('vvexport_739684.csv', 'r'), delimiter='\\t'))"
   ]
  },
  {
   "cell_type": "code",
   "execution_count": 3,
   "metadata": {
    "scrolled": true
   },
   "outputs": [
    {
     "data": {
      "text/plain": [
       "{'SQ002': 'abstraktsus',\n",
       " 'SQ003': 'afektiivsus',\n",
       " 'SQ004': 'instrueerivus',\n",
       " 'SQ005': 'informatsioonitihedus',\n",
       " 'SQ006': 'spontaansus',\n",
       " 'SQ007': 'impersonaalsus',\n",
       " 'SQ008': 'formaalsus',\n",
       " 'SQ009': 'keerukus',\n",
       " 'SQ010': 'ajalisuse olulisus',\n",
       " 'SQ011': 'interaktiivsus',\n",
       " 'SQ012': 'objektiivsus',\n",
       " 'SQ013': 'argumentatiivsus'}"
      ]
     },
     "execution_count": 3,
     "metadata": {},
     "output_type": "execute_result"
    }
   ],
   "source": [
    "dimension_mapping = {\n",
    "    'SQ002': 'abstraktsus',\n",
    "    'SQ003': 'afektiivsus',\n",
    "    'SQ004': 'instrueerivus',\n",
    "    'SQ005': 'informatsioonitihedus',\n",
    "    'SQ006': 'spontaansus',\n",
    "    'SQ007': 'impersonaalsus',\n",
    "    'SQ008': 'formaalsus',\n",
    "    'SQ009': 'keerukus',\n",
    "    'SQ010': 'ajalisuse olulisus',\n",
    "    'SQ011': 'interaktiivsus',\n",
    "    'SQ012': 'objektiivsus',\n",
    "    'SQ013': 'argumentatiivsus'\n",
    "}\n",
    "dimension_mapping"
   ]
  },
  {
   "cell_type": "code",
   "execution_count": 4,
   "metadata": {},
   "outputs": [],
   "source": [
    "answer_mapping = {\n",
    "    'A2': 'ei esine',\n",
    "    'A3': 'esineb nõrgalt',\n",
    "    'A4': 'esineb mõõdukalt',\n",
    "    'A5': 'esineb tugevalt',\n",
    "    'A6': 'ei oska vastata'\n",
    "}"
   ]
  },
  {
   "cell_type": "code",
   "execution_count": 5,
   "metadata": {},
   "outputs": [
    {
     "name": "stdout",
     "output_type": "stream",
     "text": [
      "0 ('id', '2', '3', '4', '9', '7')\n",
      "1 ('token', '{question_not_shown}', '{question_not_shown}', '{question_not_shown}', '{question_not_shown}', '{question_not_shown}')\n",
      "2 ('submitdate', '2020-07-07 06:33:08', '2020-07-09 12:47:43', '2020-07-08 08:02:12', '2020-07-27 10:37:51', '2020-07-17 14:06:31')\n",
      "3 ('lastpage', '28', '28', '28', '28', '28')\n",
      "4 ('startlanguage', 'et', 'et', 'et', 'et', 'et')\n",
      "5 ('startdate', '2020-07-06 14:19:21', '2020-07-06 17:19:54', '2020-07-07 07:03:47', '2020-07-27 09:55:41', '2020-07-13 12:26:44')\n",
      "6 ('datestamp', '2020-07-07 06:33:08', '2020-07-09 12:47:43', '2020-07-08 08:02:12', '2020-07-27 10:37:51', '2020-07-17 14:06:31')\n",
      "7 ('kontaktandmed_SQ001', 'Kristjan Pärnmets', 'Annely Liivas', 'Karmen Grigor', 'Margit Kerov', 'Martin Vainikko')\n",
      "8 ('kontaktandmed_SQ002', 'kristjanparnmets@gmail.com', 'annely.liivas@gmail.com', 'karmen.grigor@gmail.com', 'margit.kerov@gmail.com', 'martin.vainikko@gmail.com')\n",
      "9 ('K1_SQ002', 'A3', 'A2', 'A4', 'A2', 'A2')\n",
      "10 ('K1_SQ003', 'A5', 'A4', 'A4', 'A4', 'A5')\n",
      "11 ('K1_SQ004', 'A2', 'A3', 'A5', 'A3', 'A3')\n",
      "12 ('K1_SQ005', 'A5', 'A3', 'A5', 'A3', 'A3')\n",
      "13 ('K1_SQ006', 'A2', 'A2', 'A2', 'A3', 'A2')\n",
      "14 ('K1_SQ007', 'A5', 'A4', 'A2', 'A5', 'A4')\n",
      "15 ('K1_SQ008', 'A4', 'A2', 'A3', 'A4', 'A3')\n",
      "16 ('K1_SQ009', 'A3', 'A4', 'A2', 'A3', 'A2')\n",
      "17 ('K1_SQ010', 'A5', 'A4', 'A5', 'A4', 'A4')\n",
      "18 ('K1_SQ011', 'A2', 'A2', 'A3', 'A2', 'A2')\n",
      "19 ('K1_SQ012', 'A4', 'A3', 'A4', 'A5', 'A4')\n",
      "20 ('K1_SQ013', 'A4', 'A2', 'A4', 'A4', 'A3')\n",
      "21 ('K2_SQ002', 'A2', 'A2', 'A3', 'A2', 'A2')\n",
      "22 ('K2_SQ003', 'A4', 'A2', 'A4', 'A3', 'A3')\n",
      "23 ('K2_SQ004', 'A3', 'A2', 'A3', 'A5', 'A3')\n",
      "24 ('K2_SQ005', 'A4', 'A4', 'A4', 'A5', 'A4')\n",
      "25 ('K2_SQ006', 'A4', 'A4', 'A4', 'A3', 'A3')\n",
      "26 ('K2_SQ007', 'A2', 'A4', 'A2', 'A2', 'A3')\n",
      "27 ('K2_SQ008', 'A2', 'A3', 'A2', 'A3', 'A2')\n",
      "28 ('K2_SQ009', 'A2', 'A2', 'A2', 'A2', 'A2')\n",
      "29 ('K2_SQ010', 'A4', 'A5', 'A5', 'A5', 'A5')\n",
      "30 ('K2_SQ011', 'A2', 'A2', 'A2', 'A2', 'A2')\n",
      "31 ('K2_SQ012', 'A3', 'A2', 'A5', 'A3', 'A3')\n",
      "32 ('K2_SQ013', 'A2', 'A2', 'A3', 'A2', 'A3')\n",
      "33 ('K3_SQ002', 'A5', 'A3', 'A5', 'A5', 'A2')\n",
      "34 ('K3_SQ003', 'A2', 'A2', 'A3', 'A3', 'A3')\n",
      "35 ('K3_SQ004', 'A2', 'A2', 'A2', 'A2', 'A3')\n",
      "36 ('K3_SQ005', 'A5', 'A4', 'A5', 'A3', 'A4')\n",
      "37 ('K3_SQ006', 'A2', 'A5', 'A2', 'A3', 'A2')\n",
      "38 ('K3_SQ008', 'A5', 'A2', 'A3', 'A3', 'A4')\n",
      "39 ('K3_SQ009', 'A4', 'A5', 'A5', 'A5', 'A5')\n",
      "40 ('K3_SQ010', 'A2', 'A2', 'A3', 'A2', 'A2')\n",
      "41 ('K3_SQ011', 'A2', 'A2', 'A2', 'A2', 'A2')\n",
      "42 ('K3_SQ012', 'A3', 'A2', 'A2', 'A3', 'A3')\n",
      "43 ('K3_SQ013', 'A5', 'A5', 'A5', 'A4', 'A4')\n",
      "44 ('K4_SQ002', 'A2', 'A2', 'A5', 'A3', 'A4')\n",
      "45 ('K4_SQ003', 'A5', 'A5', 'A5', 'A5', 'A5')\n",
      "46 ('K4_SQ004', 'A2', 'A2', 'A2', 'A2', 'A3')\n",
      "47 ('K4_SQ005', 'A4', 'A4', 'A4', 'A4', 'A3')\n",
      "48 ('K4_SQ006', 'A5', 'A5', 'A5', 'A5', 'A4')\n",
      "49 ('K4_SQ007', 'A6', 'A5', 'A4', 'A4', 'A4')\n",
      "50 ('K4_SQ008', 'A2', 'A2', 'A2', 'A2', 'A2')\n",
      "51 ('K4_SQ009', 'A2', 'A4', 'A5', 'A3', 'A3')\n",
      "52 ('K4_SQ010', 'A3', 'A2', 'A2', 'A3', 'A3')\n",
      "53 ('K4_SQ011', 'A6', 'A2', 'A3', 'A3', 'A2')\n",
      "54 ('K4_SQ012', 'A5', 'A5', 'A5', 'A5', 'A5')\n",
      "55 ('K4_SQ013', 'A3', 'A2', 'A3', 'A4', 'A3')\n",
      "56 ('K5_SQ002', 'A5', 'A5', 'A3', 'A4', 'A5')\n",
      "57 ('K5_SQ003', 'A5', 'A4', 'A5', 'A5', 'A5')\n",
      "58 ('K5_SQ004', 'A2', 'A3', 'A3', 'A3', 'A2')\n",
      "59 ('K5_SQ005', 'A4', 'A4', 'A4', 'A3', 'A2')\n",
      "60 ('K5_SQ006', 'A5', 'A5', 'A5', 'A5', 'A5')\n",
      "61 ('K5_SQ007', 'A4', 'A4', 'A2', 'A5', 'A5')\n",
      "62 ('K5_SQ008', 'A2', 'A2', 'A2', 'A2', 'A2')\n",
      "63 ('K5_SQ009', 'A5', 'A3', 'A5', 'A3', 'A4')\n",
      "64 ('K5_SQ010', 'A5', 'A2', 'A3', 'A3', 'A3')\n",
      "65 ('K5_SQ011', 'A5', 'A5', 'A5', 'A5', 'A3')\n",
      "66 ('K5_SQ012', 'A5', 'A5', 'A5', 'A5', 'A5')\n",
      "67 ('K5_SQ013', 'A3', 'A3', 'A2', 'A3', 'A2')\n",
      "68 ('K6_SQ002', 'A3', 'A3', 'A4', 'A2', 'A2')\n",
      "69 ('K6_SQ003', 'A4', 'A4', 'A4', 'A4', 'A4')\n",
      "70 ('K6_SQ004', 'A2', 'A4', 'A3', 'A2', 'A5')\n",
      "71 ('K6_SQ005', 'A5', 'A4', 'A3', 'A4', 'A3')\n",
      "72 ('K6_SQ006', 'A2', 'A2', 'A2', 'A3', 'A2')\n",
      "73 ('K6_SQ007', 'A2', 'A3', 'A3', 'A2', 'A3')\n",
      "74 ('K6_SQ008', 'A3', 'A4', 'A2', 'A3', 'A2')\n",
      "75 ('K6_SQ009', 'A2', 'A3', 'A2', 'A2', 'A2')\n",
      "76 ('K6_SQ010', 'A3', 'A3', 'A3', 'A2', 'A3')\n",
      "77 ('K6_SQ011', 'A2', 'A2', 'A2', 'A3', 'A2')\n",
      "78 ('K6_SQ012', 'A5', 'A5', 'A3', 'A4', 'A4')\n",
      "79 ('K6_SQ013', 'A5', 'A3', 'A5', 'A2', 'A4')\n",
      "80 ('K7_SQ002', 'A3', 'A5', 'A3', 'A4', 'A2')\n",
      "81 ('K7_SQ003', 'A2', 'A2', 'A2', 'A2', 'A2')\n",
      "82 ('K7_SQ004', 'A4', 'A4', 'A4', 'A5', 'A4')\n",
      "83 ('K7_SQ005', 'A5', 'A2', 'A5', 'A3', 'A4')\n",
      "84 ('K7_SQ006', 'A2', 'A2', 'A2', 'A2', 'A2')\n",
      "85 ('K7_SQ007', 'A5', 'A5', 'A3', 'A5', 'A5')\n",
      "86 ('K7_SQ008', 'A5', 'A5', 'A5', 'A5', 'A5')\n",
      "87 ('K7_SQ009', 'A5', 'A5', 'A5', 'A5', 'A5')\n",
      "88 ('K7_SQ010', 'A2', 'A2', 'A2', 'A3', 'A2')\n",
      "89 ('K7_SQ011', 'A2', 'A2', 'A2', 'A3', 'A2')\n",
      "90 ('K7_SQ012', 'A2', 'A2', 'A2', 'A2', 'A2')\n",
      "91 ('K7_SQ013', 'A2', 'A2', 'A2', 'A4', 'A2')\n",
      "92 ('K8_SQ002', 'A3', 'A5', 'A2', 'A2', 'A2')\n",
      "93 ('K8_SQ003', 'A2', 'A2', 'A2', 'A2', 'A2')\n",
      "94 ('K8_SQ004', 'A2', 'A2', 'A3', 'A5', 'A4')\n",
      "95 ('K8_SQ005', 'A5', 'A2', 'A3', 'A3', 'A2')\n",
      "96 ('K8_SQ006', 'A2', 'A2', 'A4', 'A2', 'A2')\n",
      "97 ('K8_SQ007', 'A5', 'A5', 'A5', 'A5', 'A5')\n",
      "98 ('K8_SQ008', 'A5', 'A4', 'A3', 'A4', 'A5')\n",
      "99 ('K8_SQ009', 'A3', 'A3', 'A3', 'A3', 'A3')\n",
      "100 ('K8_SQ010', 'A5', 'A4', 'A4', 'A5', 'A5')\n",
      "101 ('K8_SQ011', 'A2', 'A2', 'A2', 'A2', 'A2')\n",
      "102 ('K8_SQ012', 'A2', 'A2', 'A2', 'A2', 'A2')\n",
      "103 ('K8_SQ013', 'A3', 'A2', 'A2', 'A2', 'A3')\n",
      "104 ('K9_SQ002', 'A4', 'A3', 'A4', 'A2', 'A3')\n",
      "105 ('K9_SQ003', 'A5', 'A4', 'A5', 'A5', 'A4')\n",
      "106 ('K9_SQ004', 'A4', 'A2', 'A2', 'A4', 'A2')\n",
      "107 ('K9_SQ005', 'A3', 'A2', 'A4', 'A3', 'A5')\n",
      "108 ('K9_SQ006', 'A4', 'A2', 'A2', 'A4', 'A2')\n",
      "109 ('K9_SQ007', 'A5', 'A4', 'A2', 'A2', 'A2')\n",
      "110 ('K9_SQ008', 'A2', 'A2', 'A2', 'A3', 'A2')\n",
      "111 ('K9_SQ009', 'A2', 'A2', 'A2', 'A2', 'A2')\n",
      "112 ('K9_SQ010', 'A5', 'A3', 'A4', 'A5', 'A4')\n",
      "113 ('K9_SQ011', 'A4', 'A3', 'A4', 'A3', 'A4')\n",
      "114 ('K9_SQ012', 'A4', 'A4', 'A5', 'A4', 'A4')\n",
      "115 ('K9_SQ013', 'A3', 'A2', 'A3', 'A3', 'A3')\n",
      "116 ('K10_SQ002', 'A4', 'A4', 'A3', 'A4', 'A3')\n",
      "117 ('K10_SQ003', 'A2', 'A2', 'A2', 'A2', 'A3')\n",
      "118 ('K10_SQ004', 'A3', 'A4', 'A4', 'A4', 'A4')\n",
      "119 ('K10_SQ005', 'A5', 'A3', 'A5', 'A5', 'A5')\n",
      "120 ('K10_SQ006', 'A2', 'A2', 'A2', 'A2', 'A2')\n",
      "121 ('K10_SQ007', 'A5', 'A5', 'A5', 'A2', 'A5')\n",
      "122 ('K10_SQ008', 'A5', 'A5', 'A3', 'A4', 'A3')\n",
      "123 ('K10_SQ009', 'A5', 'A5', 'A5', 'A3', 'A3')\n",
      "124 ('K10_SQ010', 'A2', 'A2', 'A3', 'A2', 'A2')\n",
      "125 ('K10_SQ011', 'A4', 'A2', 'A2', 'A2', 'A2')\n",
      "126 ('K10_SQ012', 'A2', 'A2', 'A2', 'A4', 'A3')\n",
      "127 ('K10_SQ013', 'A3', 'A4', 'A2', 'A4', 'A3')\n",
      "128 ('K11_SQ002', 'A5', 'A3', 'A4', 'A2', 'A5')\n",
      "129 ('K11_SQ003', 'A4', 'A5', 'A5', 'A5', 'A5')\n",
      "130 ('K11_SQ004', 'A2', 'A4', 'A4', 'A4', 'A3')\n",
      "131 ('K11_SQ005', 'A5', 'A3', 'A4', 'A4', 'A4')\n",
      "132 ('K11_SQ006', 'A5', 'A5', 'A5', 'A5', 'A5')\n",
      "133 ('K11_SQ007', 'A5', 'A4', 'A3', 'A2', 'A4')\n",
      "134 ('K11_SQ008', 'A2', 'A2', 'A2', 'A2', 'A2')\n",
      "135 ('K11_SQ009', 'A3', 'A3', 'A4', 'A3', 'A2')\n",
      "136 ('K11_SQ010', 'A2', 'A3', 'A3', 'A4', 'A3')\n",
      "137 ('K11_SQ011', 'A2', 'A2', 'A5', 'A5', 'A2')\n",
      "138 ('K11_SQ012', 'A4', 'A5', 'A5', 'A4', 'A5')\n",
      "139 ('K11_SQ013', 'A2', 'A3', 'A3', 'A2', 'A2')\n",
      "140 ('K12_SQ002', 'A2', 'A3', 'A3', 'A2', 'A2')\n",
      "141 ('K12_SQ003', 'A2', 'A2', 'A2', 'A2', 'A3')\n",
      "142 ('K12_SQ004', 'A5', 'A3', 'A3', 'A4', 'A5')\n",
      "143 ('K12_SQ005', 'A5', 'A2', 'A5', 'A4', 'A4')\n",
      "144 ('K12_SQ006', 'A2', 'A2', 'A2', 'A2', 'A2')\n",
      "145 ('K12_SQ007', 'A5', 'A5', 'A5', 'A4', 'A5')\n",
      "146 ('K12_SQ008', 'A5', 'A5', 'A4', 'A4', 'A4')\n",
      "147 ('K12_SQ009', 'A4', 'A3', 'A5', 'A3', 'A4')\n",
      "148 ('K12_SQ010', 'A4', 'A3', 'A4', 'A4', 'A4')\n",
      "149 ('K12_SQ011', 'A2', 'A2', 'A3', 'A3', 'A2')\n",
      "150 ('K12_SQ012', 'A2', 'A2', 'A2', 'A2', 'A2')\n",
      "151 ('K12_SQ013', 'A4', 'A4', 'A2', 'A5', 'A4')\n",
      "152 ('K13_SQ002', 'A3', 'A2', 'A4', 'A2', 'A3')\n",
      "153 ('K13_SQ003', 'A5', 'A5', 'A5', 'A5', 'A4')\n",
      "154 ('K13_SQ004', 'A2', 'A3', 'A2', 'A2', 'A3')\n",
      "155 ('K13_SQ005', 'A3', 'A4', 'A5', 'A3', 'A3')\n",
      "156 ('K13_SQ006', 'A5', 'A5', 'A5', 'A5', 'A5')\n",
      "157 ('K13_SQ007', 'A4', 'A4', 'A3', 'A3', 'A5')\n",
      "158 ('K13_SQ008', 'A3', 'A2', 'A2', 'A2', 'A2')\n",
      "159 ('K13_SQ009', 'A3', 'A2', 'A4', 'A2', 'A4')\n",
      "160 ('K13_SQ010', 'A2', 'A3', 'A2', 'A2', 'A2')\n",
      "161 ('K13_SQ011', 'A4', 'A5', 'A5', 'A5', 'A3')\n",
      "162 ('K13_SQ012', 'A4', 'A5', 'A5', 'A5', 'A5')\n",
      "163 ('K13_SQ013', 'A3', 'A3', 'A3', 'A3', 'A3')\n",
      "164 ('K14_SQ002', 'A2', 'A3', 'A2', 'A4', 'A2')\n",
      "165 ('K14_SQ003', 'A2', 'A2', 'A2', 'A2', 'A2')\n",
      "166 ('K14_SQ004', 'A4', 'A2', 'A5', 'A5', 'A3')\n",
      "167 ('K14_SQ005', 'A4', 'A2', 'A4', 'A3', 'A5')\n",
      "168 ('K14_SQ006', 'A3', 'A2', 'A2', 'A2', 'A2')\n",
      "169 ('K14_SQ007', 'A4', 'A5', 'A5', 'A5', 'A5')\n",
      "170 ('K14_SQ008', 'A4', 'A5', 'A5', 'A5', 'A5')\n",
      "171 ('K14_SQ009', 'A4', 'A4', 'A3', 'A4', 'A4')\n",
      "172 ('K14_SQ010', 'A2', 'A2', 'A2', 'A2', 'A2')\n",
      "173 ('K14_SQ011', 'A3', 'A2', 'A2', 'A2', 'A2')\n",
      "174 ('K14_SQ012', 'A2', 'A2', 'A2', 'A2', 'A2')\n",
      "175 ('K14_SQ013', 'A3', 'A2', 'A2', 'A3', 'A2')\n",
      "176 ('K15_SQ002', 'A4', 'A2', 'A4', 'A2', 'A2')\n",
      "177 ('K15_SQ003', 'A4', 'A3', 'A4', 'A4', 'A4')\n",
      "178 ('K15_SQ004', 'A2', 'A2', 'A3', 'A3', 'A3')\n",
      "179 ('K15_SQ005', 'A4', 'A3', 'A4', 'A3', 'A4')\n",
      "180 ('K15_SQ006', 'A3', 'A3', 'A3', 'A3', 'A2')\n",
      "181 ('K15_SQ007', 'A4', 'A2', 'A3', 'A2', 'A2')\n",
      "182 ('K15_SQ008', 'A3', 'A4', 'A2', 'A3', 'A2')\n",
      "183 ('K15_SQ009', 'A4', 'A3', 'A3', 'A3', 'A3')\n",
      "184 ('K15_SQ010', 'A5', 'A5', 'A5', 'A5', 'A5')\n",
      "185 ('K15_SQ011', 'A2', 'A2', 'A2', 'A3', 'A2')\n",
      "186 ('K15_SQ012', 'A4', 'A2', 'A3', 'A4', 'A4')\n",
      "187 ('K15_SQ013', 'A2', 'A2', 'A4', 'A4', 'A3')\n",
      "188 ('K16_SQ002', 'A2', 'A2', 'A3', 'A2', 'A2')\n",
      "189 ('K16_SQ003', 'A2', 'A2', 'A2', 'A2', 'A2')\n",
      "190 ('K16_SQ004', 'A2', 'A4', 'A3', 'A5', 'A3')\n",
      "191 ('K16_SQ005', 'A5', 'A2', 'A5', 'A5', 'A5')\n",
      "192 ('K16_SQ006', 'A3', 'A2', 'A2', 'A2', 'A2')\n",
      "193 ('K16_SQ007', 'A4', 'A3', 'A3', 'A4', 'A3')\n",
      "194 ('K16_SQ008', 'A5', 'A4', 'A5', 'A5', 'A5')\n",
      "195 ('K16_SQ009', 'A2', 'A3', 'A3', 'A3', 'A4')\n",
      "196 ('K16_SQ010', 'A3', 'A5', 'A5', 'A5', 'A4')\n",
      "197 ('K16_SQ011', 'A2', 'A2', 'A3', 'A2', 'A2')\n",
      "198 ('K16_SQ012', 'A2', 'A2', 'A2', 'A2', 'A2')\n",
      "199 ('K16_SQ013', 'A2', 'A2', 'A2', 'A2', 'A2')\n",
      "200 ('K17_SQ002', 'A3', 'A3', 'A4', 'A3', 'A4')\n",
      "201 ('K17_SQ003', 'A3', 'A2', 'A3', 'A4', 'A3')\n",
      "202 ('K17_SQ004', 'A2', 'A2', 'A2', 'A2', 'A3')\n",
      "203 ('K17_SQ005', 'A3', 'A3', 'A3', 'A4', 'A4')\n",
      "204 ('K17_SQ006', 'A3', 'A2', 'A3', 'A4', 'A3')\n",
      "205 ('K17_SQ007', 'A3', 'A4', 'A3', 'A4', 'A4')\n",
      "206 ('K17_SQ008', 'A4', 'A4', 'A2', 'A4', 'A3')\n",
      "207 ('K17_SQ009', 'A2', 'A3', 'A4', 'A2', 'A2')\n",
      "208 ('K17_SQ010', 'A2', 'A3', 'A3', 'A2', 'A2')\n",
      "209 ('K17_SQ011', 'A2', 'A5', 'A5', 'A3', 'A4')\n",
      "210 ('K17_SQ012', 'A3', 'A4', 'A5', 'A2', 'A4')\n",
      "211 ('K17_SQ013', 'A4', 'A5', 'A2', 'A2', 'A3')\n",
      "212 ('K18_SQ002', 'A5', 'A2', 'A3', 'A3', 'A5')\n",
      "213 ('K18_SQ003', 'A5', 'A5', 'A5', 'A5', 'A5')\n",
      "214 ('K18_SQ004', 'A2', 'A3', 'A4', 'A3', 'A3')\n",
      "215 ('K18_SQ005', 'A3', 'A2', 'A5', 'A4', 'A3')\n",
      "216 ('K18_SQ006', 'A3', 'A5', 'A5', 'A5', 'A5')\n",
      "217 ('K18_SQ007', 'A2', 'A2', 'A2', 'A2', 'A2')\n",
      "218 ('K18_SQ008', 'A2', 'A2', 'A2', 'A2', 'A2')\n",
      "219 ('K18_SQ009', 'A3', 'A2', 'A4', 'A2', 'A3')\n",
      "220 ('K18_SQ010', 'A2', 'A3', 'A4', 'A4', 'A3')\n",
      "221 ('K18_SQ011', 'A2', 'A5', 'A5', 'A5', 'A5')\n",
      "222 ('K18_SQ012', 'A2', 'A2', 'A2', 'A2', 'A3')\n",
      "223 ('K18_SQ013', 'A2', 'A2', 'A2', 'A2', 'A2')\n",
      "224 ('K19_SQ002', 'A2', 'A2', 'A2', 'A2', 'A2')\n",
      "225 ('K19_SQ003', 'A2', 'A2', 'A2', 'A2', 'A2')\n",
      "226 ('K19_SQ004', 'A5', 'A5', 'A5', 'A5', 'A5')\n",
      "227 ('K19_SQ005', 'A4', 'A2', 'A5', 'A4', 'A5')\n",
      "228 ('K19_SQ006', 'A2', 'A2', 'A2', 'A2', 'A2')\n",
      "229 ('K19_SQ007', 'A5', 'A5', 'A4', 'A5', 'A5')\n",
      "230 ('K19_SQ008', 'A3', 'A3', 'A2', 'A3', 'A2')\n",
      "231 ('K19_SQ009', 'A2', 'A2', 'A4', 'A2', 'A2')\n",
      "232 ('K19_SQ010', 'A3', 'A4', 'A4', 'A5', 'A4')\n",
      "233 ('K19_SQ011', 'A5', 'A2', 'A2', 'A2', 'A2')\n",
      "234 ('K19_SQ012', 'A2', 'A2', 'A2', 'A4', 'A2')\n",
      "235 ('K19_SQ013', 'A2', 'A2', 'A2', 'A2', 'A2')\n",
      "236 ('K20_SQ002', 'A4', 'A2', 'A4', 'A4', 'A3')\n",
      "237 ('K20_SQ003', 'A4', 'A3', 'A4', 'A4', 'A4')\n",
      "238 ('K20_SQ004', 'A2', 'A2', 'A2', 'A2', 'A2')\n",
      "239 ('K20_SQ005', 'A4', 'A3', 'A5', 'A4', 'A4')\n",
      "240 ('K20_SQ006', 'A2', 'A2', 'A3', 'A3', 'A2')\n",
      "241 ('K20_SQ007', 'A5', 'A4', 'A4', 'A4', 'A5')\n",
      "242 ('K20_SQ008', 'A3', 'A4', 'A2', 'A2', 'A3')\n",
      "243 ('K20_SQ009', 'A5', 'A3', 'A5', 'A2', 'A4')\n",
      "244 ('K20_SQ010', 'A2', 'A2', 'A3', 'A2', 'A2')\n",
      "245 ('K20_SQ011', 'A2', 'A2', 'A4', 'A2', 'A2')\n",
      "246 ('K20_SQ012', 'A3', 'A4', 'A3', 'A4', 'A4')\n",
      "247 ('K20_SQ013', 'A4', 'A5', 'A5', 'A4', 'A3')\n",
      "248 ('K21_SQ002', 'A4', 'A3', 'A4', 'A4', 'A2')\n",
      "249 ('K21_SQ003', 'A4', 'A4', 'A4', 'A3', 'A4')\n",
      "250 ('K21_SQ004', 'A3', 'A2', 'A2', 'A3', 'A3')\n",
      "251 ('K21_SQ005', 'A4', 'A3', 'A4', 'A4', 'A5')\n",
      "252 ('K21_SQ006', 'A3', 'A2', 'A3', 'A2', 'A2')\n",
      "253 ('K21_SQ007', 'A5', 'A5', 'A4', 'A3', 'A5')\n",
      "254 ('K21_SQ008', 'A3', 'A3', 'A2', 'A2', 'A2')\n",
      "255 ('K21_SQ009', 'A4', 'A4', 'A3', 'A3', 'A3')\n",
      "256 ('K21_SQ010', 'A3', 'A2', 'A3', 'A4', 'A2')\n",
      "257 ('K21_SQ011', 'A2', 'A2', 'A2', 'A3', 'A2')\n",
      "258 ('K21_SQ012', 'A4', 'A4', 'A3', 'A4', 'A4')\n",
      "259 ('K21_SQ013', 'A3', 'A5', 'A4', 'A4', 'A4')\n",
      "260 ('K22_SQ002', 'A5', 'A3', 'A4', 'A4', 'A4')\n",
      "261 ('K22_SQ003', 'A4', 'A4', 'A4', 'A4', 'A3')\n",
      "262 ('K22_SQ004', 'A3', 'A2', 'A2', 'A3', 'A3')\n",
      "263 ('K22_SQ005', 'A3', 'A3', 'A4', 'A3', 'A4')\n",
      "264 ('K22_SQ006', 'A3', 'A4', 'A4', 'A4', 'A3')\n",
      "265 ('K22_SQ007', 'A2', 'A4', 'A3', 'A4', 'A4')\n",
      "266 ('K22_SQ008', 'A2', 'A2', 'A2', 'A2', 'A2')\n",
      "267 ('K22_SQ009', 'A2', 'A3', 'A4', 'A2', 'A3')\n",
      "268 ('K22_SQ010', 'A2', 'A2', 'A3', 'A4', 'A2')\n",
      "269 ('K22_SQ011', 'A3', 'A2', 'A2', 'A3', 'A2')\n",
      "270 ('K22_SQ012', 'A4', 'A5', 'A5', 'A4', 'A4')\n",
      "271 ('K22_SQ013', 'A3', 'A3', 'A2', 'A3', 'A4')\n",
      "272 ('K23_SQ002', 'A4', 'A4', 'A3', 'A2', 'A2')\n",
      "273 ('K23_SQ003', 'A4', 'A3', 'A3', 'A2', 'A4')\n",
      "274 ('K23_SQ004', 'A2', 'A2', 'A2', 'A3', 'A3')\n",
      "275 ('K23_SQ005', 'A4', 'A4', 'A5', 'A4', 'A4')\n",
      "276 ('K23_SQ006', 'A4', 'A3', 'A4', 'A2', 'A2')\n",
      "277 ('K23_SQ007', 'A3', 'A4', 'A3', 'A2', 'A4')\n",
      "278 ('K23_SQ008', 'A3', 'A3', 'A2', 'A3', 'A2')\n",
      "279 ('K23_SQ009', 'A3', 'A2', 'A3', 'A2', 'A2')\n",
      "280 ('K23_SQ010', 'A2', 'A4', 'A5', 'A5', 'A4')\n",
      "281 ('K23_SQ011', 'A2', 'A2', 'A3', 'A4', 'A3')\n",
      "282 ('K23_SQ012', 'A4', 'A3', 'A3', 'A4', 'A3')\n",
      "283 ('K23_SQ013', 'A2', 'A3', 'A3', 'A3', 'A4')\n",
      "284 ('K24_SQ002', 'A3', 'A2', 'A4', 'A2', 'A2')\n",
      "285 ('K24_SQ003', 'A4', 'A3', 'A3', 'A3', 'A4')\n",
      "286 ('K24_SQ004', 'A2', 'A3', 'A3', 'A4', 'A3')\n",
      "287 ('K24_SQ005', 'A3', 'A2', 'A5', 'A4', 'A4')\n",
      "288 ('K24_SQ006', 'A3', 'A3', 'A2', 'A3', 'A2')\n",
      "289 ('K24_SQ007', 'A4', 'A4', 'A3', 'A2', 'A2')\n",
      "290 ('K24_SQ008', 'A3', 'A2', 'A2', 'A3', 'A2')\n",
      "291 ('K24_SQ009', 'A2', 'A2', 'A3', 'A2', 'A2')\n",
      "292 ('K24_SQ010', 'A4', 'A4', 'A4', 'A5', 'A4')\n",
      "293 ('K24_SQ011', 'A2', 'A3', 'A3', 'A3', 'A4')\n",
      "294 ('K24_SQ012', 'A3', 'A2', 'A2', 'A4', 'A3')\n",
      "295 ('K24_SQ013', 'A2', 'A2', 'A2', 'A3', 'A3')\n",
      "296 ('K25_SQ002', 'A4', 'A3', 'A4', 'A2', 'A3')\n",
      "297 ('K25_SQ003', 'A4', 'A4', 'A5', 'A4', 'A4')\n",
      "298 ('K25_SQ004', 'A4', 'A3', 'A2', 'A3', 'A3')\n",
      "299 ('K25_SQ005', 'A3', 'A3', 'A4', 'A4', 'A3')\n",
      "300 ('K25_SQ006', 'A4', 'A4', 'A4', 'A4', 'A4')\n",
      "301 ('K25_SQ007', 'A3', 'A4', 'A3', 'A4', 'A4')\n",
      "302 ('K25_SQ008', 'A2', 'A2', 'A2', 'A2', 'A2')\n",
      "303 ('K25_SQ009', 'A2', 'A2', 'A4', 'A2', 'A2')\n",
      "304 ('K25_SQ010', 'A2', 'A3', 'A4', 'A3', 'A4')\n",
      "305 ('K25_SQ011', 'A2', 'A2', 'A4', 'A3', 'A2')\n",
      "306 ('K25_SQ012', 'A5', 'A5', 'A5', 'A4', 'A4')\n",
      "307 ('K25_SQ013', 'A3', 'A2', 'A2', 'A3', 'A3')\n",
      "308 ('tagasiside', 'Küsimustik oli väga huvitav! Mul oli siiralt põnev mõelda kõikidele nendele teksti aspektidele ning kas ja kuidas nad selles tekstis esinevad. Märkasin mõningate küsimuste juures pisikesi kirjavigu, kuid see oli ka kõik (näiteks ühe küsimuse juures oli \"Formaalne\" asemel \"FormaalneObjektiivne\").', '', '', '', 'Natuke tagasisidet ikka. Küsitlus oli põhjalik ning uuritavad tekstide omadused igati asjalikud. Katse lõpuks tekkis juba teatud vilumus. Võimalik, et katse ajal muutus natuke ka skaala,  mille järgi tekstide omadusi hindasin (jõudes äärmuslikemate tekstideni). Kohati näis variatsioon tekstide pikkustes üsnagi suur, aga üldiselt see ei seganud. Lisaks kõigele oli tekste huvitav lugeda :)')\n",
      "309 ('K00', 'Y', 'Y', 'Y', 'Y', 'Y')\n"
     ]
    }
   ],
   "source": [
    "for i, line in enumerate(zip(vastused[1], vastused[2], vastused[3], vastused[4], vastused[5], vastused[6])):\n",
    "    print(i, line)"
   ]
  },
  {
   "cell_type": "code",
   "execution_count": 6,
   "metadata": {},
   "outputs": [
    {
     "name": "stdout",
     "output_type": "stream",
     "text": [
      "9 21\n"
     ]
    }
   ],
   "source": [
    "start_index, end_index = 9, 9+12\n",
    "print(start_index, end_index)"
   ]
  },
  {
   "cell_type": "code",
   "execution_count": 7,
   "metadata": {},
   "outputs": [],
   "source": [
    "def generate_dict(start_index, end_index):    \n",
    "    row_answer = {}\n",
    "    for i, line in enumerate(zip(vastused[1][start_index:end_index], vastused[2][start_index:end_index], vastused[3][start_index:end_index], vastused[4][start_index:end_index], vastused[5][start_index:end_index], vastused[6][start_index:end_index]), 1):\n",
    "        question_code = line[0].split('_')[1]\n",
    "        question = dimension_mapping.get(question_code)\n",
    "        row_answer[f'{question_code} {question}'] = [answer_mapping.get(an) for an in line[1:]]\n",
    "    return row_answer"
   ]
  },
  {
   "cell_type": "code",
   "execution_count": 8,
   "metadata": {},
   "outputs": [
    {
     "name": "stdout",
     "output_type": "stream",
     "text": [
      " Reformierakonna liikmed Kristen Michal ja Kalev Lillo saatsid meediale avalduse seoses riigiprokuratuuri otsusega lõpetada erakonna rahastamist puudutav kriminaalmenetlus, mis algatati Silver Meikari arvamusloo järel. Postimees vahendab avalduse muutmata kujul. Tänase päeva hommik tõi erakonnale ja meile uudise, et kriminaalasi, mis oli algatatud kontrollimaks Silver Meikariga seotud väiteid, otsustati lõpetada. See tähendab lihtsas eesti keeles, et ajalehes esitatud kahtlused olid sellised, et politsei ja prokuratuur pidid seadusest tulenevalt neid kontrollima ning kontrolli tulemusena ei leidnud need kahtlused kinnitust. Oleme värskelt saanud ka sellekohase materjali, mis näitab, et tegu on olnud äärmiselt põhjaliku uurimisega. Kokku on selles asjas ütlusi küsitud üle 60 inimeselt, 82 inimese pangakontol toimuvat on vaadeldud. Ajaliselt kestis see kokku pea viis kuud. Mida öelda kokkuvõtteks? Esiteks, me täname südamest Eesti inimesi, kelle toeta see aeg oleks veel raskem olnud. Ehkki mõnele võib-olla tundus väike südamlik sõna väike asi, siis meie poolt vaadates oli see suur asi. Ja häid soove jagus. Teiseks, nagu öeldakse, on aeg tualeti ukse eri pooltel märkimisväärselt erineva pikkusega. Ligi viis kuud on sellise asja selgeks saamiseks, olles ise kahtlusalune, ikka üsna pikk aeg. Kindlasti tuleb mõelda tulevikus, milliseid ressursse juurde või muutusi on täiendavalt vaja, et sellised uurimised saaksid ajaliselt kiiremini läbi viidud. Kolmandaks, loodame, et kõik osapooled näevad selles negatiivses sündmuses ka midagi head. Hea on kindlasti see, et ühiskonnas toimub debatt erakondade, parlamentaarse demokraatia ja põhiseaduse rollist. Kindlasti on erakondade rahastamises aspekte, mida saab ja tuleb paremaks teha, et avalikkusel oleks veelgi parem ülevaade ja suurem usaldus erakondade vastu. Ka meie kohus on sellesse panustada. Neljandaks, märgime, et prokuratuuri põhjalik uurimine andis ligi viie kuuga väga tasakaalustatud ülevaate toimunust ja kahtlusi külvanud inimeste motiividest. Täname ka kõiki Eesti inimesi, kes ülekohut nähes otsustasid Reformierakonnaga olla. Laimukampaania algatajatele võis see kindlasti olla tõsine pettumus. Oleme tänulikud kõigile, kes keerulisel ajal erakonda hoidsid ja meie suhtes inimlikult käitusid. Neid muuseas ei olnud vaid meie erakonnas. Samuti täname erakonna toetajaid ja valijaid – jätkuv toetus erakonnale on olnud selge märk sellest, et meid usaldatakse. Loodame, et lähiajal leiavad ka need, kes üritasid konkurendina allapoole vööd lüües rohkem edu saavutada, hingesuurust öelda, et uurimine on tõe välja selgitanud. Tulemus võib meeldida või mitte, aga see on väga põhjaliku ja ligi viiekuise uurimise tulemus. Meie oleme kinnitanud esimesest päevast alates, et õhku heidetud kahtlused ei vasta tõele ja nüüd on see ka mustvalgel selge.\n"
     ]
    }
   ],
   "source": [
    "tekst1 = vastused[0][start_index]\n",
    "print(tekst1)"
   ]
  },
  {
   "cell_type": "code",
   "execution_count": 9,
   "metadata": {},
   "outputs": [
    {
     "data": {
      "text/html": [
       "<div>\n",
       "<style scoped>\n",
       "    .dataframe tbody tr th:only-of-type {\n",
       "        vertical-align: middle;\n",
       "    }\n",
       "\n",
       "    .dataframe tbody tr th {\n",
       "        vertical-align: top;\n",
       "    }\n",
       "\n",
       "    .dataframe thead th {\n",
       "        text-align: right;\n",
       "    }\n",
       "</style>\n",
       "<table border=\"1\" class=\"dataframe\">\n",
       "  <thead>\n",
       "    <tr style=\"text-align: right;\">\n",
       "      <th></th>\n",
       "      <th>V1</th>\n",
       "      <th>V2</th>\n",
       "      <th>V3</th>\n",
       "      <th>V4</th>\n",
       "      <th>V5</th>\n",
       "    </tr>\n",
       "  </thead>\n",
       "  <tbody>\n",
       "    <tr>\n",
       "      <th>SQ002 abstraktsus</th>\n",
       "      <td>esineb nõrgalt</td>\n",
       "      <td>ei esine</td>\n",
       "      <td>esineb mõõdukalt</td>\n",
       "      <td>ei esine</td>\n",
       "      <td>ei esine</td>\n",
       "    </tr>\n",
       "    <tr>\n",
       "      <th>SQ003 afektiivsus</th>\n",
       "      <td>esineb tugevalt</td>\n",
       "      <td>esineb mõõdukalt</td>\n",
       "      <td>esineb mõõdukalt</td>\n",
       "      <td>esineb mõõdukalt</td>\n",
       "      <td>esineb tugevalt</td>\n",
       "    </tr>\n",
       "    <tr>\n",
       "      <th>SQ004 instrueerivus</th>\n",
       "      <td>ei esine</td>\n",
       "      <td>esineb nõrgalt</td>\n",
       "      <td>esineb tugevalt</td>\n",
       "      <td>esineb nõrgalt</td>\n",
       "      <td>esineb nõrgalt</td>\n",
       "    </tr>\n",
       "    <tr>\n",
       "      <th>SQ005 informatsioonitihedus</th>\n",
       "      <td>esineb tugevalt</td>\n",
       "      <td>esineb nõrgalt</td>\n",
       "      <td>esineb tugevalt</td>\n",
       "      <td>esineb nõrgalt</td>\n",
       "      <td>esineb nõrgalt</td>\n",
       "    </tr>\n",
       "    <tr>\n",
       "      <th>SQ006 spontaansus</th>\n",
       "      <td>ei esine</td>\n",
       "      <td>ei esine</td>\n",
       "      <td>ei esine</td>\n",
       "      <td>esineb nõrgalt</td>\n",
       "      <td>ei esine</td>\n",
       "    </tr>\n",
       "    <tr>\n",
       "      <th>SQ007 impersonaalsus</th>\n",
       "      <td>esineb tugevalt</td>\n",
       "      <td>esineb mõõdukalt</td>\n",
       "      <td>ei esine</td>\n",
       "      <td>esineb tugevalt</td>\n",
       "      <td>esineb mõõdukalt</td>\n",
       "    </tr>\n",
       "    <tr>\n",
       "      <th>SQ008 formaalsus</th>\n",
       "      <td>esineb mõõdukalt</td>\n",
       "      <td>ei esine</td>\n",
       "      <td>esineb nõrgalt</td>\n",
       "      <td>esineb mõõdukalt</td>\n",
       "      <td>esineb nõrgalt</td>\n",
       "    </tr>\n",
       "    <tr>\n",
       "      <th>SQ009 keerukus</th>\n",
       "      <td>esineb nõrgalt</td>\n",
       "      <td>esineb mõõdukalt</td>\n",
       "      <td>ei esine</td>\n",
       "      <td>esineb nõrgalt</td>\n",
       "      <td>ei esine</td>\n",
       "    </tr>\n",
       "    <tr>\n",
       "      <th>SQ010 ajalisuse olulisus</th>\n",
       "      <td>esineb tugevalt</td>\n",
       "      <td>esineb mõõdukalt</td>\n",
       "      <td>esineb tugevalt</td>\n",
       "      <td>esineb mõõdukalt</td>\n",
       "      <td>esineb mõõdukalt</td>\n",
       "    </tr>\n",
       "    <tr>\n",
       "      <th>SQ011 interaktiivsus</th>\n",
       "      <td>ei esine</td>\n",
       "      <td>ei esine</td>\n",
       "      <td>esineb nõrgalt</td>\n",
       "      <td>ei esine</td>\n",
       "      <td>ei esine</td>\n",
       "    </tr>\n",
       "    <tr>\n",
       "      <th>SQ012 objektiivsus</th>\n",
       "      <td>esineb mõõdukalt</td>\n",
       "      <td>esineb nõrgalt</td>\n",
       "      <td>esineb mõõdukalt</td>\n",
       "      <td>esineb tugevalt</td>\n",
       "      <td>esineb mõõdukalt</td>\n",
       "    </tr>\n",
       "    <tr>\n",
       "      <th>SQ013 argumentatiivsus</th>\n",
       "      <td>esineb mõõdukalt</td>\n",
       "      <td>ei esine</td>\n",
       "      <td>esineb mõõdukalt</td>\n",
       "      <td>esineb mõõdukalt</td>\n",
       "      <td>esineb nõrgalt</td>\n",
       "    </tr>\n",
       "  </tbody>\n",
       "</table>\n",
       "</div>"
      ],
      "text/plain": [
       "                                           V1                V2  \\\n",
       "SQ002 abstraktsus              esineb nõrgalt          ei esine   \n",
       "SQ003 afektiivsus             esineb tugevalt  esineb mõõdukalt   \n",
       "SQ004 instrueerivus                  ei esine    esineb nõrgalt   \n",
       "SQ005 informatsioonitihedus   esineb tugevalt    esineb nõrgalt   \n",
       "SQ006 spontaansus                    ei esine          ei esine   \n",
       "SQ007 impersonaalsus          esineb tugevalt  esineb mõõdukalt   \n",
       "SQ008 formaalsus             esineb mõõdukalt          ei esine   \n",
       "SQ009 keerukus                 esineb nõrgalt  esineb mõõdukalt   \n",
       "SQ010 ajalisuse olulisus      esineb tugevalt  esineb mõõdukalt   \n",
       "SQ011 interaktiivsus                 ei esine          ei esine   \n",
       "SQ012 objektiivsus           esineb mõõdukalt    esineb nõrgalt   \n",
       "SQ013 argumentatiivsus       esineb mõõdukalt          ei esine   \n",
       "\n",
       "                                           V3                V4  \\\n",
       "SQ002 abstraktsus            esineb mõõdukalt          ei esine   \n",
       "SQ003 afektiivsus            esineb mõõdukalt  esineb mõõdukalt   \n",
       "SQ004 instrueerivus           esineb tugevalt    esineb nõrgalt   \n",
       "SQ005 informatsioonitihedus   esineb tugevalt    esineb nõrgalt   \n",
       "SQ006 spontaansus                    ei esine    esineb nõrgalt   \n",
       "SQ007 impersonaalsus                 ei esine   esineb tugevalt   \n",
       "SQ008 formaalsus               esineb nõrgalt  esineb mõõdukalt   \n",
       "SQ009 keerukus                       ei esine    esineb nõrgalt   \n",
       "SQ010 ajalisuse olulisus      esineb tugevalt  esineb mõõdukalt   \n",
       "SQ011 interaktiivsus           esineb nõrgalt          ei esine   \n",
       "SQ012 objektiivsus           esineb mõõdukalt   esineb tugevalt   \n",
       "SQ013 argumentatiivsus       esineb mõõdukalt  esineb mõõdukalt   \n",
       "\n",
       "                                           V5  \n",
       "SQ002 abstraktsus                    ei esine  \n",
       "SQ003 afektiivsus             esineb tugevalt  \n",
       "SQ004 instrueerivus            esineb nõrgalt  \n",
       "SQ005 informatsioonitihedus    esineb nõrgalt  \n",
       "SQ006 spontaansus                    ei esine  \n",
       "SQ007 impersonaalsus         esineb mõõdukalt  \n",
       "SQ008 formaalsus               esineb nõrgalt  \n",
       "SQ009 keerukus                       ei esine  \n",
       "SQ010 ajalisuse olulisus     esineb mõõdukalt  \n",
       "SQ011 interaktiivsus                 ei esine  \n",
       "SQ012 objektiivsus           esineb mõõdukalt  \n",
       "SQ013 argumentatiivsus         esineb nõrgalt  "
      ]
     },
     "execution_count": 9,
     "metadata": {},
     "output_type": "execute_result"
    }
   ],
   "source": [
    "pd.DataFrame.from_dict(generate_dict(start_index, end_index), orient='index', columns=['V1', 'V2', 'V3', 'V4', 'V5'])"
   ]
  },
  {
   "cell_type": "markdown",
   "metadata": {},
   "source": [
    "### Tekst 2"
   ]
  },
  {
   "cell_type": "code",
   "execution_count": 10,
   "metadata": {},
   "outputs": [
    {
     "name": "stdout",
     "output_type": "stream",
     "text": [
      "21 33\n"
     ]
    }
   ],
   "source": [
    "start_index = end_index\n",
    "end_index =  start_index + 12\n",
    "print(start_index, end_index)"
   ]
  },
  {
   "cell_type": "code",
   "execution_count": 11,
   "metadata": {},
   "outputs": [
    {
     "name": "stdout",
     "output_type": "stream",
     "text": [
      "Kui suvel kägu kukkumise lõpetas, kirjutasin, et käo järgi peaks esimene külm tulema 6.novembri paiku. Kaks ööd ongi mõnusalt karge ja külmakraadidega ilm olnud. Tähes siravad ja noorkuu kasvab. Täna hommikul päiksetõusu ajal näitas meie õues kraadiklaas -5. Eile pidasime metsaühistu koosolekut. Kõik teevad praegu hoolega noore metsa hooldustöid, sest teenusepakkujaid on nii palju, et isegi suur-metsaomanikud ei suuda kõigile tööd leida. Täiesti enneolematu situatsioon metsanduses. Vaba tööjõud on tekkinud nii RMK reformi järel kui ka mõnede välismaiste suuromanike huvi vähenemisest siinsete metsade majandamise vastu. Arutasime hakkepuidu ühist müüki, toetuste taotlemise olukorda ning teisi hetkel kuumi probleeme, nagu metsaspetsialistide väljaõpe erametsanduse konsulendiks jm. Kodus sain lõpuks teeääre kõrgetest toomingatest puhtaks. Telefonikaabli panekul pole enam takistusi. Kolmekesi vehkides jätkus mitmeks tunniks tööd, kuni okste ladumiseni traktorikärule. See viimane sarnanes üpriski heinakoorma tegemisega. Tuli vahepeal oksi saega peenestada ja kinni tallata, et kõik peale mahuksid. Kui ma ühe abilise õhtu eel koju sõidutasin, sattusin heinapõllu kohal nägema üpris harva kohatavat kakulist – soorätsu. Tundraalade lind, kes siin arvatavasti läbirändel. Täna käisin metsas. Pikemalt tööd ei teinud, rohkem vaatasin ringi, mis metsas toimub. Linnumajas oli toit lõpuni ära söödud ja puistasin uue. Mitmeid linde oli näha: hiireviu, hallõgija, igat masti tihaseid, puukoristajaid ja rähne. Ühe suur-kirjurähni püüdsin pildile, kui ta oma lemmikpaigas sarapuu oksal ennastunustavalt kopsis. Üksik kitseke jälgis teerajal, et ma talle liiga lähedale ei astuks.\n"
     ]
    }
   ],
   "source": [
    "print(vastused[0][start_index])"
   ]
  },
  {
   "cell_type": "code",
   "execution_count": 12,
   "metadata": {},
   "outputs": [
    {
     "data": {
      "text/html": [
       "<div>\n",
       "<style scoped>\n",
       "    .dataframe tbody tr th:only-of-type {\n",
       "        vertical-align: middle;\n",
       "    }\n",
       "\n",
       "    .dataframe tbody tr th {\n",
       "        vertical-align: top;\n",
       "    }\n",
       "\n",
       "    .dataframe thead th {\n",
       "        text-align: right;\n",
       "    }\n",
       "</style>\n",
       "<table border=\"1\" class=\"dataframe\">\n",
       "  <thead>\n",
       "    <tr style=\"text-align: right;\">\n",
       "      <th></th>\n",
       "      <th>V1</th>\n",
       "      <th>V2</th>\n",
       "      <th>V3</th>\n",
       "      <th>V4</th>\n",
       "      <th>V5</th>\n",
       "    </tr>\n",
       "  </thead>\n",
       "  <tbody>\n",
       "    <tr>\n",
       "      <th>SQ002 abstraktsus</th>\n",
       "      <td>ei esine</td>\n",
       "      <td>ei esine</td>\n",
       "      <td>esineb nõrgalt</td>\n",
       "      <td>ei esine</td>\n",
       "      <td>ei esine</td>\n",
       "    </tr>\n",
       "    <tr>\n",
       "      <th>SQ003 afektiivsus</th>\n",
       "      <td>esineb mõõdukalt</td>\n",
       "      <td>ei esine</td>\n",
       "      <td>esineb mõõdukalt</td>\n",
       "      <td>esineb nõrgalt</td>\n",
       "      <td>esineb nõrgalt</td>\n",
       "    </tr>\n",
       "    <tr>\n",
       "      <th>SQ004 instrueerivus</th>\n",
       "      <td>esineb nõrgalt</td>\n",
       "      <td>ei esine</td>\n",
       "      <td>esineb nõrgalt</td>\n",
       "      <td>esineb tugevalt</td>\n",
       "      <td>esineb nõrgalt</td>\n",
       "    </tr>\n",
       "    <tr>\n",
       "      <th>SQ005 informatsioonitihedus</th>\n",
       "      <td>esineb mõõdukalt</td>\n",
       "      <td>esineb mõõdukalt</td>\n",
       "      <td>esineb mõõdukalt</td>\n",
       "      <td>esineb tugevalt</td>\n",
       "      <td>esineb mõõdukalt</td>\n",
       "    </tr>\n",
       "    <tr>\n",
       "      <th>SQ006 spontaansus</th>\n",
       "      <td>esineb mõõdukalt</td>\n",
       "      <td>esineb mõõdukalt</td>\n",
       "      <td>esineb mõõdukalt</td>\n",
       "      <td>esineb nõrgalt</td>\n",
       "      <td>esineb nõrgalt</td>\n",
       "    </tr>\n",
       "    <tr>\n",
       "      <th>SQ007 impersonaalsus</th>\n",
       "      <td>ei esine</td>\n",
       "      <td>esineb mõõdukalt</td>\n",
       "      <td>ei esine</td>\n",
       "      <td>ei esine</td>\n",
       "      <td>esineb nõrgalt</td>\n",
       "    </tr>\n",
       "    <tr>\n",
       "      <th>SQ008 formaalsus</th>\n",
       "      <td>ei esine</td>\n",
       "      <td>esineb nõrgalt</td>\n",
       "      <td>ei esine</td>\n",
       "      <td>esineb nõrgalt</td>\n",
       "      <td>ei esine</td>\n",
       "    </tr>\n",
       "    <tr>\n",
       "      <th>SQ009 keerukus</th>\n",
       "      <td>ei esine</td>\n",
       "      <td>ei esine</td>\n",
       "      <td>ei esine</td>\n",
       "      <td>ei esine</td>\n",
       "      <td>ei esine</td>\n",
       "    </tr>\n",
       "    <tr>\n",
       "      <th>SQ010 ajalisuse olulisus</th>\n",
       "      <td>esineb mõõdukalt</td>\n",
       "      <td>esineb tugevalt</td>\n",
       "      <td>esineb tugevalt</td>\n",
       "      <td>esineb tugevalt</td>\n",
       "      <td>esineb tugevalt</td>\n",
       "    </tr>\n",
       "    <tr>\n",
       "      <th>SQ011 interaktiivsus</th>\n",
       "      <td>ei esine</td>\n",
       "      <td>ei esine</td>\n",
       "      <td>ei esine</td>\n",
       "      <td>ei esine</td>\n",
       "      <td>ei esine</td>\n",
       "    </tr>\n",
       "    <tr>\n",
       "      <th>SQ012 objektiivsus</th>\n",
       "      <td>esineb nõrgalt</td>\n",
       "      <td>ei esine</td>\n",
       "      <td>esineb tugevalt</td>\n",
       "      <td>esineb nõrgalt</td>\n",
       "      <td>esineb nõrgalt</td>\n",
       "    </tr>\n",
       "    <tr>\n",
       "      <th>SQ013 argumentatiivsus</th>\n",
       "      <td>ei esine</td>\n",
       "      <td>ei esine</td>\n",
       "      <td>esineb nõrgalt</td>\n",
       "      <td>ei esine</td>\n",
       "      <td>esineb nõrgalt</td>\n",
       "    </tr>\n",
       "  </tbody>\n",
       "</table>\n",
       "</div>"
      ],
      "text/plain": [
       "                                           V1                V2  \\\n",
       "SQ002 abstraktsus                    ei esine          ei esine   \n",
       "SQ003 afektiivsus            esineb mõõdukalt          ei esine   \n",
       "SQ004 instrueerivus            esineb nõrgalt          ei esine   \n",
       "SQ005 informatsioonitihedus  esineb mõõdukalt  esineb mõõdukalt   \n",
       "SQ006 spontaansus            esineb mõõdukalt  esineb mõõdukalt   \n",
       "SQ007 impersonaalsus                 ei esine  esineb mõõdukalt   \n",
       "SQ008 formaalsus                     ei esine    esineb nõrgalt   \n",
       "SQ009 keerukus                       ei esine          ei esine   \n",
       "SQ010 ajalisuse olulisus     esineb mõõdukalt   esineb tugevalt   \n",
       "SQ011 interaktiivsus                 ei esine          ei esine   \n",
       "SQ012 objektiivsus             esineb nõrgalt          ei esine   \n",
       "SQ013 argumentatiivsus               ei esine          ei esine   \n",
       "\n",
       "                                           V3               V4  \\\n",
       "SQ002 abstraktsus              esineb nõrgalt         ei esine   \n",
       "SQ003 afektiivsus            esineb mõõdukalt   esineb nõrgalt   \n",
       "SQ004 instrueerivus            esineb nõrgalt  esineb tugevalt   \n",
       "SQ005 informatsioonitihedus  esineb mõõdukalt  esineb tugevalt   \n",
       "SQ006 spontaansus            esineb mõõdukalt   esineb nõrgalt   \n",
       "SQ007 impersonaalsus                 ei esine         ei esine   \n",
       "SQ008 formaalsus                     ei esine   esineb nõrgalt   \n",
       "SQ009 keerukus                       ei esine         ei esine   \n",
       "SQ010 ajalisuse olulisus      esineb tugevalt  esineb tugevalt   \n",
       "SQ011 interaktiivsus                 ei esine         ei esine   \n",
       "SQ012 objektiivsus            esineb tugevalt   esineb nõrgalt   \n",
       "SQ013 argumentatiivsus         esineb nõrgalt         ei esine   \n",
       "\n",
       "                                           V5  \n",
       "SQ002 abstraktsus                    ei esine  \n",
       "SQ003 afektiivsus              esineb nõrgalt  \n",
       "SQ004 instrueerivus            esineb nõrgalt  \n",
       "SQ005 informatsioonitihedus  esineb mõõdukalt  \n",
       "SQ006 spontaansus              esineb nõrgalt  \n",
       "SQ007 impersonaalsus           esineb nõrgalt  \n",
       "SQ008 formaalsus                     ei esine  \n",
       "SQ009 keerukus                       ei esine  \n",
       "SQ010 ajalisuse olulisus      esineb tugevalt  \n",
       "SQ011 interaktiivsus                 ei esine  \n",
       "SQ012 objektiivsus             esineb nõrgalt  \n",
       "SQ013 argumentatiivsus         esineb nõrgalt  "
      ]
     },
     "execution_count": 12,
     "metadata": {},
     "output_type": "execute_result"
    }
   ],
   "source": [
    "pd.DataFrame.from_dict(generate_dict(start_index, end_index), orient='index', columns=['V1', 'V2', 'V3', 'V4', 'V5'])"
   ]
  },
  {
   "cell_type": "markdown",
   "metadata": {},
   "source": [
    "### Tekst 3"
   ]
  },
  {
   "cell_type": "code",
   "execution_count": 13,
   "metadata": {},
   "outputs": [
    {
     "name": "stdout",
     "output_type": "stream",
     "text": [
      "33 44\n"
     ]
    }
   ],
   "source": [
    "start_index = end_index\n",
    "end_index =  start_index + 11\n",
    "print(start_index, end_index)"
   ]
  },
  {
   "cell_type": "code",
   "execution_count": 14,
   "metadata": {},
   "outputs": [
    {
     "name": "stdout",
     "output_type": "stream",
     "text": [
      "Berdjajev oli mõnda aega marksist, kuid pöördus tagasi õigeusu juurde; väidab, et vene kristluses “leidub rohkem vabadust, rohkem vendlustunnet, rohkem lahkust, rohkem tõelist alandlikkust ja vähem võimuiha kui lääne kristluses. Oma välise hierarhilise süsteemi varjus on venelased sisimas alati olnud hierarhiate vastased, peaaegu anarhistlikud. Venelaste elus peitub element, mis ei allu determinismile, miski, mida lääne ratsionaalselt mõtlevad inimesed pole veel piisavalt mõistnud? Teadmiste omandamine on põhimõtteliselt alati kirglik ja emotsionaalne, sest selles on kaalul elu mõtte küsimus. Filosoofias mängib kaasa inimene tervikuna, koos oma tahte ja emotsioonidega; filosoofiat huvitab rohkem elutarkus kui abstraktsed teadmised. Tõeliselt reaalne ei ole mitte väline objektiivne maailm, vaid mõtlev ja tundev subjekt - inimene/vaim; objektiivne maailm on vaid näilisus. Kui objektiivset maailma iseloomustab (loodusseadustest tulenev) determinism, siis subjekti või vaimu maailma iseloomustab vabadus. Vabadus on Berdjajevi metafüüsika süsteemi lähtekoht; kõige oleva algpõhjus pole mitte Jumal, vaid nn \"ürgvabadus\"? - see on kõigi asjade olemasolu kontekst. Kuna ürgvabadus on Jumalast primaarsem, pole ka Jumal kõikväeline. Ta ei suuda kaotada maailmast kurjust, sest kurjus tuleneb paratamatult vabadusest (vabadus aga on vanem kui Jumal). Kuid üks osa meie mõistusest ei suuda vabadust taluda, vaid taotleb kontrolli asjade üle, mugavust ja turvatunnet. Seetõttu jagab mõistus maailma kaheks: subjekt-objekt, vaim-loodus jne - selles protsessis (objektiviseerimises) aga vabadus kaob. See viib inimesed ühtlasi eemale tõest - tõde ei ole objektiivse maailma tundmaõppimine (see maailm pole niikuinii tõeliselt reaalne), vaid inimese osadus vaimuga. Vaim on teine Berdjajevi keskne mõiste. Kogu inimkond on läbi aegade kogenud vaimu ja vaimseid nähtusi; selle ees silma kinni pigistamine (materialism) oleks puhas rumalus. Jumalatunnetus kuulub täielikult vaimu maailma ja seega ei saa seda kuidagi objektiivselt tekitada - see keel/mõtlemine/argumentatsioon, millega käsitletakse välismaailma objekte, ei sobi Jumalast rääkimiseks. Jumala ainus asupaik on personaalne eksistents - see on jumalik kild või säde inimeses, ainus põhjus, miks usk Jumalasse üldse on võimalik. Oma vaimu- ja objektiivse maailma dualismist tuletab Berdjajev eshatoloogia - lunastus tähendab objektiivse maailma muutmist vaimseks maailmaks (päike ei paista siis enam taevas, vaid inimhinges). See muutmine aga ei toimu automaatselt, vaid meie endi loova tegevuse tulemusel.\n"
     ]
    }
   ],
   "source": [
    "print(vastused[0][start_index])\n",
    "#K3 on diemsnioon 7 puudu :( "
   ]
  },
  {
   "cell_type": "code",
   "execution_count": 15,
   "metadata": {
    "scrolled": true
   },
   "outputs": [
    {
     "data": {
      "text/html": [
       "<div>\n",
       "<style scoped>\n",
       "    .dataframe tbody tr th:only-of-type {\n",
       "        vertical-align: middle;\n",
       "    }\n",
       "\n",
       "    .dataframe tbody tr th {\n",
       "        vertical-align: top;\n",
       "    }\n",
       "\n",
       "    .dataframe thead th {\n",
       "        text-align: right;\n",
       "    }\n",
       "</style>\n",
       "<table border=\"1\" class=\"dataframe\">\n",
       "  <thead>\n",
       "    <tr style=\"text-align: right;\">\n",
       "      <th></th>\n",
       "      <th>V1</th>\n",
       "      <th>V2</th>\n",
       "      <th>V3</th>\n",
       "      <th>V4</th>\n",
       "      <th>V5</th>\n",
       "    </tr>\n",
       "  </thead>\n",
       "  <tbody>\n",
       "    <tr>\n",
       "      <th>SQ002 abstraktsus</th>\n",
       "      <td>esineb tugevalt</td>\n",
       "      <td>esineb nõrgalt</td>\n",
       "      <td>esineb tugevalt</td>\n",
       "      <td>esineb tugevalt</td>\n",
       "      <td>ei esine</td>\n",
       "    </tr>\n",
       "    <tr>\n",
       "      <th>SQ003 afektiivsus</th>\n",
       "      <td>ei esine</td>\n",
       "      <td>ei esine</td>\n",
       "      <td>esineb nõrgalt</td>\n",
       "      <td>esineb nõrgalt</td>\n",
       "      <td>esineb nõrgalt</td>\n",
       "    </tr>\n",
       "    <tr>\n",
       "      <th>SQ004 instrueerivus</th>\n",
       "      <td>ei esine</td>\n",
       "      <td>ei esine</td>\n",
       "      <td>ei esine</td>\n",
       "      <td>ei esine</td>\n",
       "      <td>esineb nõrgalt</td>\n",
       "    </tr>\n",
       "    <tr>\n",
       "      <th>SQ005 informatsioonitihedus</th>\n",
       "      <td>esineb tugevalt</td>\n",
       "      <td>esineb mõõdukalt</td>\n",
       "      <td>esineb tugevalt</td>\n",
       "      <td>esineb nõrgalt</td>\n",
       "      <td>esineb mõõdukalt</td>\n",
       "    </tr>\n",
       "    <tr>\n",
       "      <th>SQ006 spontaansus</th>\n",
       "      <td>ei esine</td>\n",
       "      <td>esineb tugevalt</td>\n",
       "      <td>ei esine</td>\n",
       "      <td>esineb nõrgalt</td>\n",
       "      <td>ei esine</td>\n",
       "    </tr>\n",
       "    <tr>\n",
       "      <th>SQ008 formaalsus</th>\n",
       "      <td>esineb tugevalt</td>\n",
       "      <td>ei esine</td>\n",
       "      <td>esineb nõrgalt</td>\n",
       "      <td>esineb nõrgalt</td>\n",
       "      <td>esineb mõõdukalt</td>\n",
       "    </tr>\n",
       "    <tr>\n",
       "      <th>SQ009 keerukus</th>\n",
       "      <td>esineb mõõdukalt</td>\n",
       "      <td>esineb tugevalt</td>\n",
       "      <td>esineb tugevalt</td>\n",
       "      <td>esineb tugevalt</td>\n",
       "      <td>esineb tugevalt</td>\n",
       "    </tr>\n",
       "    <tr>\n",
       "      <th>SQ010 ajalisuse olulisus</th>\n",
       "      <td>ei esine</td>\n",
       "      <td>ei esine</td>\n",
       "      <td>esineb nõrgalt</td>\n",
       "      <td>ei esine</td>\n",
       "      <td>ei esine</td>\n",
       "    </tr>\n",
       "    <tr>\n",
       "      <th>SQ011 interaktiivsus</th>\n",
       "      <td>ei esine</td>\n",
       "      <td>ei esine</td>\n",
       "      <td>ei esine</td>\n",
       "      <td>ei esine</td>\n",
       "      <td>ei esine</td>\n",
       "    </tr>\n",
       "    <tr>\n",
       "      <th>SQ012 objektiivsus</th>\n",
       "      <td>esineb nõrgalt</td>\n",
       "      <td>ei esine</td>\n",
       "      <td>ei esine</td>\n",
       "      <td>esineb nõrgalt</td>\n",
       "      <td>esineb nõrgalt</td>\n",
       "    </tr>\n",
       "    <tr>\n",
       "      <th>SQ013 argumentatiivsus</th>\n",
       "      <td>esineb tugevalt</td>\n",
       "      <td>esineb tugevalt</td>\n",
       "      <td>esineb tugevalt</td>\n",
       "      <td>esineb mõõdukalt</td>\n",
       "      <td>esineb mõõdukalt</td>\n",
       "    </tr>\n",
       "  </tbody>\n",
       "</table>\n",
       "</div>"
      ],
      "text/plain": [
       "                                           V1                V2  \\\n",
       "SQ002 abstraktsus             esineb tugevalt    esineb nõrgalt   \n",
       "SQ003 afektiivsus                    ei esine          ei esine   \n",
       "SQ004 instrueerivus                  ei esine          ei esine   \n",
       "SQ005 informatsioonitihedus   esineb tugevalt  esineb mõõdukalt   \n",
       "SQ006 spontaansus                    ei esine   esineb tugevalt   \n",
       "SQ008 formaalsus              esineb tugevalt          ei esine   \n",
       "SQ009 keerukus               esineb mõõdukalt   esineb tugevalt   \n",
       "SQ010 ajalisuse olulisus             ei esine          ei esine   \n",
       "SQ011 interaktiivsus                 ei esine          ei esine   \n",
       "SQ012 objektiivsus             esineb nõrgalt          ei esine   \n",
       "SQ013 argumentatiivsus        esineb tugevalt   esineb tugevalt   \n",
       "\n",
       "                                          V3                V4  \\\n",
       "SQ002 abstraktsus            esineb tugevalt   esineb tugevalt   \n",
       "SQ003 afektiivsus             esineb nõrgalt    esineb nõrgalt   \n",
       "SQ004 instrueerivus                 ei esine          ei esine   \n",
       "SQ005 informatsioonitihedus  esineb tugevalt    esineb nõrgalt   \n",
       "SQ006 spontaansus                   ei esine    esineb nõrgalt   \n",
       "SQ008 formaalsus              esineb nõrgalt    esineb nõrgalt   \n",
       "SQ009 keerukus               esineb tugevalt   esineb tugevalt   \n",
       "SQ010 ajalisuse olulisus      esineb nõrgalt          ei esine   \n",
       "SQ011 interaktiivsus                ei esine          ei esine   \n",
       "SQ012 objektiivsus                  ei esine    esineb nõrgalt   \n",
       "SQ013 argumentatiivsus       esineb tugevalt  esineb mõõdukalt   \n",
       "\n",
       "                                           V5  \n",
       "SQ002 abstraktsus                    ei esine  \n",
       "SQ003 afektiivsus              esineb nõrgalt  \n",
       "SQ004 instrueerivus            esineb nõrgalt  \n",
       "SQ005 informatsioonitihedus  esineb mõõdukalt  \n",
       "SQ006 spontaansus                    ei esine  \n",
       "SQ008 formaalsus             esineb mõõdukalt  \n",
       "SQ009 keerukus                esineb tugevalt  \n",
       "SQ010 ajalisuse olulisus             ei esine  \n",
       "SQ011 interaktiivsus                 ei esine  \n",
       "SQ012 objektiivsus             esineb nõrgalt  \n",
       "SQ013 argumentatiivsus       esineb mõõdukalt  "
      ]
     },
     "execution_count": 15,
     "metadata": {},
     "output_type": "execute_result"
    }
   ],
   "source": [
    "pd.DataFrame.from_dict(generate_dict(start_index, end_index), orient='index', columns=['V1', 'V2', 'V3', 'V4', 'V5'])"
   ]
  },
  {
   "cell_type": "markdown",
   "metadata": {},
   "source": [
    "### Tekst 4"
   ]
  },
  {
   "cell_type": "code",
   "execution_count": 16,
   "metadata": {},
   "outputs": [
    {
     "name": "stdout",
     "output_type": "stream",
     "text": [
      "44 56\n"
     ]
    }
   ],
   "source": [
    "start_index = end_index\n",
    "end_index =  start_index + 12\n",
    "print(start_index, end_index)"
   ]
  },
  {
   "cell_type": "code",
   "execution_count": 17,
   "metadata": {},
   "outputs": [
    {
     "name": "stdout",
     "output_type": "stream",
     "text": [
      "Venemaa välispoliitika alusraamistik toetub asiaatlikule salakavalusele. Sellisena jäävad Venemaa tegelikud eesmärgid ning taotlused alati varjatuteks, hämaruselooriga kaetuteks, mille koestikku ametlikud esindused ega peamaja iiialgi ei avalikusta. Tollesse ämblikuvõrku on läinud ja sinna siplema jäänud enamiku maailma suurriikide diplomaatilistest korpustest, olgu nad nii haritud ja läbinägijad kui tahes. Masendav on olnud lugeda mõne USA kuulsa \"diplomaadi\" mälestusi, kes reklaamivad end inimestena, kes aastakümneid Moskvas elades on hakanud venelasi \"mõistma\". Seda aga kuidas venelased USA Iraagi ja Afganistani hävinguisse on meelitanud nad mõista ei suuda!! No peavad \"diplomaatidel\" alles võimsad silmaklapid olema! Obama esines maailma suurjõu ja tuumariigi Venemaa ees alandlikus vormis, Rasmussen teades ja tundes väikeriigi endise esindajana niidistikke, käitub temaga nagu ettevaatlik minöör lõhkelaenguga! Miks nad seda küll teevad, kui meie idanaaber nii nõrk, jõuetu ja majanduslikult abitu on? Gruusia on demokratlikule maailmale ette lükatud pala, milles kümme konksu sees, kes selle alla neelab saab peagi tundma hirmsat valu kõhus! Samas ei kohku Venemaa tagasi ühegi välisagressiooni ega sisemaise alatuse ees! On vaja, viiakse väed iseseivasse riiki sisse, on vaja kodus vastalistel suud lukku lüüa, suletakse kanal või ajaleht ning saadetakse ajakirjanikud mullatoidule. Muu \"maailm\" küll möliseb mõnda aega,ent jääb peagi vakka! ...Vakka jäävad, ja üsna pea, ka \"diplomaadid\". Üsna usutav, et nii sünnib see ka Gruusiagi puhul! Venelane ei provotseeri seal midagi, vaatab vaid vaikides ja \"mõistvalt\" pealt, kui kohalikud mägede pojad omi arveid klaarivad ja, kui paras aeg käes, lööb \"korra\" majja. Need vene passidega Osseedid tunnevad end \"vanema venna\" tiiva all kindlalt ja tükivad ülbitsema, venelastel pole vaja mingi kahtlase õhutustööga tegelda, pigem usun, et neile on käsk antud igati tagasi hoida ja mitte lasta end kohalike konfliktidest segada. Grusiinide võitlusvõimest võiks teada, et see rahvas pole peaaegu kunagi klassikalist, regulaarvägede sõda pidanud, nagu seda muudki Kaukaasia rahvad.\n"
     ]
    }
   ],
   "source": [
    "print(vastused[0][start_index])"
   ]
  },
  {
   "cell_type": "code",
   "execution_count": null,
   "metadata": {},
   "outputs": [],
   "source": [
    "pd.DataFrame.from_dict(generate_dict(start_index, end_index), orient='index', columns=['V1', 'V2', 'V3', 'V4', 'V5'])"
   ]
  },
  {
   "cell_type": "markdown",
   "metadata": {},
   "source": [
    "### Tekst 5"
   ]
  },
  {
   "cell_type": "code",
   "execution_count": null,
   "metadata": {},
   "outputs": [],
   "source": [
    "start_index = end_index\n",
    "end_index =  start_index + 12\n",
    "print(start_index, end_index)"
   ]
  },
  {
   "cell_type": "code",
   "execution_count": null,
   "metadata": {},
   "outputs": [],
   "source": [
    "print(vastused[0][start_index])"
   ]
  },
  {
   "cell_type": "code",
   "execution_count": null,
   "metadata": {},
   "outputs": [],
   "source": [
    "pd.DataFrame.from_dict(generate_dict(start_index, end_index), orient='index', columns=['V1', 'V2', 'V3', 'V4', 'V5'])"
   ]
  },
  {
   "cell_type": "markdown",
   "metadata": {},
   "source": [
    "### Tekst 6"
   ]
  },
  {
   "cell_type": "code",
   "execution_count": null,
   "metadata": {},
   "outputs": [],
   "source": [
    "start_index = end_index\n",
    "end_index =  start_index + 12\n",
    "print(start_index, end_index)\n",
    "print(vastused[0][start_index])\n",
    "pd.DataFrame.from_dict(generate_dict(start_index, end_index), orient='index', columns=['V1', 'V2', 'V3', 'V4', 'V5'])"
   ]
  },
  {
   "cell_type": "markdown",
   "metadata": {},
   "source": [
    "### Tekst 7"
   ]
  },
  {
   "cell_type": "code",
   "execution_count": null,
   "metadata": {},
   "outputs": [],
   "source": [
    "start_index = end_index\n",
    "end_index =  start_index + 12\n",
    "print(start_index, end_index)\n",
    "print(vastused[0][start_index])\n",
    "pd.DataFrame.from_dict(generate_dict(start_index, end_index), orient='index', columns=['V1', 'V2', 'V3', 'V4', 'V5'])"
   ]
  },
  {
   "cell_type": "markdown",
   "metadata": {},
   "source": [
    "### Tekst 8"
   ]
  },
  {
   "cell_type": "code",
   "execution_count": null,
   "metadata": {},
   "outputs": [],
   "source": [
    "start_index = end_index\n",
    "end_index =  start_index + 12\n",
    "print(start_index, end_index)\n",
    "print(vastused[0][start_index])\n",
    "pd.DataFrame.from_dict(generate_dict(start_index, end_index), orient='index', columns=['V1', 'V2', 'V3', 'V4', 'V5'])"
   ]
  },
  {
   "cell_type": "markdown",
   "metadata": {},
   "source": [
    "### Tekst 9"
   ]
  },
  {
   "cell_type": "code",
   "execution_count": null,
   "metadata": {},
   "outputs": [],
   "source": [
    "start_index = end_index\n",
    "end_index =  start_index + 12\n",
    "print(start_index, end_index)\n",
    "print(vastused[0][start_index])\n",
    "pd.DataFrame.from_dict(generate_dict(start_index, end_index), orient='index', columns=['V1', 'V2', 'V3', 'V4', 'V5'])"
   ]
  },
  {
   "cell_type": "markdown",
   "metadata": {},
   "source": [
    "### Tekst 10"
   ]
  },
  {
   "cell_type": "code",
   "execution_count": null,
   "metadata": {},
   "outputs": [],
   "source": [
    "start_index = end_index\n",
    "end_index =  start_index + 12\n",
    "print(start_index, end_index)\n",
    "print(vastused[0][start_index])\n",
    "pd.DataFrame.from_dict(generate_dict(start_index, end_index), orient='index', columns=['V1', 'V2', 'V3', 'V4', 'V5'])"
   ]
  },
  {
   "cell_type": "markdown",
   "metadata": {},
   "source": [
    "### Tekst 11"
   ]
  },
  {
   "cell_type": "code",
   "execution_count": null,
   "metadata": {},
   "outputs": [],
   "source": [
    "start_index = end_index\n",
    "end_index =  start_index + 12\n",
    "print(start_index, end_index)\n",
    "print(vastused[0][start_index])\n",
    "pd.DataFrame.from_dict(generate_dict(start_index, end_index), orient='index', columns=['V1', 'V2', 'V3', 'V4', 'V5'])"
   ]
  },
  {
   "cell_type": "markdown",
   "metadata": {},
   "source": [
    "### Tekst 12"
   ]
  },
  {
   "cell_type": "code",
   "execution_count": null,
   "metadata": {},
   "outputs": [],
   "source": [
    "start_index = end_index\n",
    "end_index =  start_index + 12\n",
    "print(start_index, end_index)\n",
    "print(vastused[0][start_index])\n",
    "pd.DataFrame.from_dict(generate_dict(start_index, end_index), orient='index', columns=['V1', 'V2', 'V3', 'V4', 'V5'])"
   ]
  },
  {
   "cell_type": "markdown",
   "metadata": {},
   "source": [
    "### Tekst 13"
   ]
  },
  {
   "cell_type": "code",
   "execution_count": null,
   "metadata": {},
   "outputs": [],
   "source": [
    "start_index = end_index\n",
    "end_index =  start_index + 12\n",
    "print(start_index, end_index)\n",
    "print(vastused[0][start_index])\n",
    "pd.DataFrame.from_dict(generate_dict(start_index, end_index), orient='index', columns=['V1', 'V2', 'V3', 'V4', 'V5'])"
   ]
  },
  {
   "cell_type": "markdown",
   "metadata": {},
   "source": [
    "### Tekst 14"
   ]
  },
  {
   "cell_type": "code",
   "execution_count": null,
   "metadata": {},
   "outputs": [],
   "source": [
    "start_index = end_index\n",
    "end_index =  start_index + 12\n",
    "print(start_index, end_index)\n",
    "print(vastused[0][start_index])\n",
    "pd.DataFrame.from_dict(generate_dict(start_index, end_index), orient='index', columns=['V1', 'V2', 'V3', 'V4', 'V5'])"
   ]
  },
  {
   "cell_type": "markdown",
   "metadata": {},
   "source": [
    "### Tekst 15"
   ]
  },
  {
   "cell_type": "code",
   "execution_count": null,
   "metadata": {},
   "outputs": [],
   "source": [
    "start_index = end_index\n",
    "end_index =  start_index + 12\n",
    "print(start_index, end_index)\n",
    "print(vastused[0][start_index])\n",
    "pd.DataFrame.from_dict(generate_dict(start_index, end_index), orient='index', columns=['V1', 'V2', 'V3', 'V4', 'V5'])"
   ]
  },
  {
   "cell_type": "markdown",
   "metadata": {},
   "source": [
    "### Tekst 16"
   ]
  },
  {
   "cell_type": "code",
   "execution_count": null,
   "metadata": {},
   "outputs": [],
   "source": [
    "start_index = end_index\n",
    "end_index =  start_index + 12\n",
    "print(start_index, end_index)\n",
    "print(vastused[0][start_index])\n",
    "pd.DataFrame.from_dict(generate_dict(start_index, end_index), orient='index', columns=['V1', 'V2', 'V3', 'V4', 'V5'])"
   ]
  },
  {
   "cell_type": "markdown",
   "metadata": {},
   "source": [
    "### Tekst 17"
   ]
  },
  {
   "cell_type": "code",
   "execution_count": null,
   "metadata": {},
   "outputs": [],
   "source": [
    "start_index = end_index\n",
    "end_index =  start_index + 12\n",
    "print(start_index, end_index)\n",
    "print(vastused[0][start_index])\n",
    "pd.DataFrame.from_dict(generate_dict(start_index, end_index), orient='index', columns=['V1', 'V2', 'V3', 'V4', 'V5'])"
   ]
  },
  {
   "cell_type": "markdown",
   "metadata": {},
   "source": [
    "### Tekst 18"
   ]
  },
  {
   "cell_type": "code",
   "execution_count": null,
   "metadata": {},
   "outputs": [],
   "source": [
    "start_index = end_index\n",
    "end_index =  start_index + 12\n",
    "print(start_index, end_index)\n",
    "print(vastused[0][start_index])\n",
    "pd.DataFrame.from_dict(generate_dict(start_index, end_index), orient='index', columns=['V1', 'V2', 'V3', 'V4', 'V5'])"
   ]
  },
  {
   "cell_type": "markdown",
   "metadata": {},
   "source": [
    "### Tekst 19"
   ]
  },
  {
   "cell_type": "code",
   "execution_count": null,
   "metadata": {},
   "outputs": [],
   "source": [
    "start_index = end_index\n",
    "end_index =  start_index + 12\n",
    "print(start_index, end_index)\n",
    "print(vastused[0][start_index])\n",
    "pd.DataFrame.from_dict(generate_dict(start_index, end_index), orient='index', columns=['V1', 'V2', 'V3', 'V4', 'V5'])"
   ]
  },
  {
   "cell_type": "markdown",
   "metadata": {},
   "source": [
    "### Tekst 20"
   ]
  },
  {
   "cell_type": "code",
   "execution_count": null,
   "metadata": {},
   "outputs": [],
   "source": [
    "start_index = end_index\n",
    "end_index =  start_index + 12\n",
    "print(start_index, end_index)\n",
    "print(vastused[0][start_index])\n",
    "pd.DataFrame.from_dict(generate_dict(start_index, end_index), orient='index', columns=['V1', 'V2', 'V3', 'V4', 'V5'])"
   ]
  },
  {
   "cell_type": "markdown",
   "metadata": {},
   "source": [
    "### Tekst 21"
   ]
  },
  {
   "cell_type": "code",
   "execution_count": null,
   "metadata": {},
   "outputs": [],
   "source": [
    "start_index = end_index\n",
    "end_index =  start_index + 12\n",
    "print(start_index, end_index)\n",
    "print(vastused[0][start_index])\n",
    "pd.DataFrame.from_dict(generate_dict(start_index, end_index), orient='index', columns=['V1', 'V2', 'V3', 'V4', 'V5'])"
   ]
  },
  {
   "cell_type": "markdown",
   "metadata": {},
   "source": [
    "### Tekst 22"
   ]
  },
  {
   "cell_type": "code",
   "execution_count": null,
   "metadata": {},
   "outputs": [],
   "source": [
    "start_index = end_index\n",
    "end_index =  start_index + 12\n",
    "print(start_index, end_index)\n",
    "print(vastused[0][start_index])\n",
    "pd.DataFrame.from_dict(generate_dict(start_index, end_index), orient='index', columns=['V1', 'V2', 'V3', 'V4', 'V5'])"
   ]
  },
  {
   "cell_type": "markdown",
   "metadata": {},
   "source": [
    "### Tekst 23"
   ]
  },
  {
   "cell_type": "code",
   "execution_count": null,
   "metadata": {},
   "outputs": [],
   "source": [
    "start_index = end_index\n",
    "end_index =  start_index + 12\n",
    "print(start_index, end_index)\n",
    "print(vastused[0][start_index])\n",
    "pd.DataFrame.from_dict(generate_dict(start_index, end_index), orient='index', columns=['V1', 'V2', 'V3', 'V4', 'V5'])"
   ]
  },
  {
   "cell_type": "markdown",
   "metadata": {},
   "source": [
    "### Tekst 24"
   ]
  },
  {
   "cell_type": "code",
   "execution_count": null,
   "metadata": {},
   "outputs": [],
   "source": [
    "start_index = end_index\n",
    "end_index =  start_index + 12\n",
    "print(start_index, end_index)\n",
    "print(vastused[0][start_index])\n",
    "pd.DataFrame.from_dict(generate_dict(start_index, end_index), orient='index', columns=['V1', 'V2', 'V3', 'V4', 'V5'])"
   ]
  },
  {
   "cell_type": "markdown",
   "metadata": {},
   "source": [
    "### Tekst 25"
   ]
  },
  {
   "cell_type": "code",
   "execution_count": null,
   "metadata": {},
   "outputs": [],
   "source": [
    "start_index = end_index\n",
    "end_index =  start_index + 12\n",
    "print(start_index, end_index)\n",
    "print(vastused[0][start_index])\n",
    "pd.DataFrame.from_dict(generate_dict(start_index, end_index), orient='index', columns=['V1', 'V2', 'V3', 'V4', 'V5'])"
   ]
  }
 ],
 "metadata": {
  "kernelspec": {
   "display_name": "Python 3",
   "language": "python",
   "name": "python3"
  },
  "language_info": {
   "codemirror_mode": {
    "name": "ipython",
    "version": 3
   },
   "file_extension": ".py",
   "mimetype": "text/x-python",
   "name": "python",
   "nbconvert_exporter": "python",
   "pygments_lexer": "ipython3",
   "version": "3.8.2"
  }
 },
 "nbformat": 4,
 "nbformat_minor": 4
}
